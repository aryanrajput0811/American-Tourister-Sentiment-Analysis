{
 "cells": [
  {
   "cell_type": "code",
   "execution_count": 1,
   "id": "faf431f7",
   "metadata": {},
   "outputs": [],
   "source": [
    "import pandas as pd\n",
    "import numpy as np\n",
    "import matplotlib.pyplot as plt\n",
    "import seaborn as sns\n",
    "import re\n",
    "from textblob import TextBlob\n",
    "from sklearn.feature_extraction.text import CountVectorizer\n",
    "from sklearn.decomposition import LatentDirichletAllocation\n",
    "from nltk.tokenize import word_tokenize\n",
    "from nltk.corpus import stopwords\n",
    "import nltk\n",
    "%matplotlib inline"
   ]
  },
  {
   "cell_type": "code",
   "execution_count": 2,
   "id": "e6074949",
   "metadata": {
    "scrolled": true
   },
   "outputs": [],
   "source": [
    "#!pip install contractions\n",
    "#!pip install textblob"
   ]
  },
  {
   "cell_type": "code",
   "execution_count": 3,
   "id": "2a3b5209",
   "metadata": {
    "scrolled": false
   },
   "outputs": [
    {
     "data": {
      "text/html": [
       "<div>\n",
       "<style scoped>\n",
       "    .dataframe tbody tr th:only-of-type {\n",
       "        vertical-align: middle;\n",
       "    }\n",
       "\n",
       "    .dataframe tbody tr th {\n",
       "        vertical-align: top;\n",
       "    }\n",
       "\n",
       "    .dataframe thead th {\n",
       "        text-align: right;\n",
       "    }\n",
       "</style>\n",
       "<table border=\"1\" class=\"dataframe\">\n",
       "  <thead>\n",
       "    <tr style=\"text-align: right;\">\n",
       "      <th></th>\n",
       "      <th>x</th>\n",
       "    </tr>\n",
       "  </thead>\n",
       "  <tbody>\n",
       "    <tr>\n",
       "      <th>0</th>\n",
       "      <td>Top quality luggage. Excellent luggage, good c...</td>\n",
       "    </tr>\n",
       "    <tr>\n",
       "      <th>1</th>\n",
       "      <td>American Tourister Bon Air Suitcase. Love this...</td>\n",
       "    </tr>\n",
       "    <tr>\n",
       "      <th>2</th>\n",
       "      <td>Perfect case. The media could not be loaded.\\r...</td>\n",
       "    </tr>\n",
       "    <tr>\n",
       "      <th>3</th>\n",
       "      <td>Its not as good as other American Tourister. I...</td>\n",
       "    </tr>\n",
       "    <tr>\n",
       "      <th>4</th>\n",
       "      <td>Not durable at all...cheap bendable plastic..m...</td>\n",
       "    </tr>\n",
       "  </tbody>\n",
       "</table>\n",
       "</div>"
      ],
      "text/plain": [
       "                                                   x\n",
       "0  Top quality luggage. Excellent luggage, good c...\n",
       "1  American Tourister Bon Air Suitcase. Love this...\n",
       "2  Perfect case. The media could not be loaded.\\r...\n",
       "3  Its not as good as other American Tourister. I...\n",
       "4  Not durable at all...cheap bendable plastic..m..."
      ]
     },
     "execution_count": 3,
     "metadata": {},
     "output_type": "execute_result"
    }
   ],
   "source": [
    "data = pd.read_csv(\"C:/Users/aryan/OneDrive/Desktop/Python and CPP/Python Project/American Tourister Reviews Sentiment Analysis/AmazonTouristerReviewPosts_UK.csv\", encoding = \"latin1\")\n",
    "data.head()"
   ]
  },
  {
   "cell_type": "code",
   "execution_count": 4,
   "id": "33692de8",
   "metadata": {},
   "outputs": [
    {
     "data": {
      "text/plain": [
       "Index(['x'], dtype='object')"
      ]
     },
     "execution_count": 4,
     "metadata": {},
     "output_type": "execute_result"
    }
   ],
   "source": [
    "data.columns"
   ]
  },
  {
   "cell_type": "code",
   "execution_count": 5,
   "id": "80c0267d",
   "metadata": {},
   "outputs": [
    {
     "data": {
      "text/html": [
       "<div>\n",
       "<style scoped>\n",
       "    .dataframe tbody tr th:only-of-type {\n",
       "        vertical-align: middle;\n",
       "    }\n",
       "\n",
       "    .dataframe tbody tr th {\n",
       "        vertical-align: top;\n",
       "    }\n",
       "\n",
       "    .dataframe thead th {\n",
       "        text-align: right;\n",
       "    }\n",
       "</style>\n",
       "<table border=\"1\" class=\"dataframe\">\n",
       "  <thead>\n",
       "    <tr style=\"text-align: right;\">\n",
       "      <th></th>\n",
       "      <th>x</th>\n",
       "      <th>expanded</th>\n",
       "    </tr>\n",
       "  </thead>\n",
       "  <tbody>\n",
       "    <tr>\n",
       "      <th>0</th>\n",
       "      <td>Top quality luggage. Excellent luggage, good c...</td>\n",
       "      <td>Top quality luggage. Excellent luggage, good c...</td>\n",
       "    </tr>\n",
       "    <tr>\n",
       "      <th>1</th>\n",
       "      <td>American Tourister Bon Air Suitcase. Love this...</td>\n",
       "      <td>American Tourister Bon Air Suitcase. Love this...</td>\n",
       "    </tr>\n",
       "    <tr>\n",
       "      <th>2</th>\n",
       "      <td>Perfect case. The media could not be loaded.\\r...</td>\n",
       "      <td>Perfect case. The media could not be loaded.\\r...</td>\n",
       "    </tr>\n",
       "    <tr>\n",
       "      <th>3</th>\n",
       "      <td>Its not as good as other American Tourister. I...</td>\n",
       "      <td>Its not as good as other American Tourister. I...</td>\n",
       "    </tr>\n",
       "    <tr>\n",
       "      <th>4</th>\n",
       "      <td>Not durable at all...cheap bendable plastic..m...</td>\n",
       "      <td>Not durable at all...cheap bendable plastic..m...</td>\n",
       "    </tr>\n",
       "  </tbody>\n",
       "</table>\n",
       "</div>"
      ],
      "text/plain": [
       "                                                   x  \\\n",
       "0  Top quality luggage. Excellent luggage, good c...   \n",
       "1  American Tourister Bon Air Suitcase. Love this...   \n",
       "2  Perfect case. The media could not be loaded.\\r...   \n",
       "3  Its not as good as other American Tourister. I...   \n",
       "4  Not durable at all...cheap bendable plastic..m...   \n",
       "\n",
       "                                            expanded  \n",
       "0  Top quality luggage. Excellent luggage, good c...  \n",
       "1  American Tourister Bon Air Suitcase. Love this...  \n",
       "2  Perfect case. The media could not be loaded.\\r...  \n",
       "3  Its not as good as other American Tourister. I...  \n",
       "4  Not durable at all...cheap bendable plastic..m...  "
      ]
     },
     "execution_count": 5,
     "metadata": {},
     "output_type": "execute_result"
    }
   ],
   "source": [
    "import contractions\n",
    "\n",
    "def expanded_contractions(text):\n",
    "    return contractions.fix(text)\n",
    "\n",
    "data['expanded'] = data['x'].apply(expanded_contractions)\n",
    "data.head()"
   ]
  },
  {
   "cell_type": "code",
   "execution_count": 6,
   "id": "1ee94fed",
   "metadata": {},
   "outputs": [
    {
     "data": {
      "text/html": [
       "<div>\n",
       "<style scoped>\n",
       "    .dataframe tbody tr th:only-of-type {\n",
       "        vertical-align: middle;\n",
       "    }\n",
       "\n",
       "    .dataframe tbody tr th {\n",
       "        vertical-align: top;\n",
       "    }\n",
       "\n",
       "    .dataframe thead th {\n",
       "        text-align: right;\n",
       "    }\n",
       "</style>\n",
       "<table border=\"1\" class=\"dataframe\">\n",
       "  <thead>\n",
       "    <tr style=\"text-align: right;\">\n",
       "      <th></th>\n",
       "      <th>x</th>\n",
       "      <th>cleaned_text</th>\n",
       "    </tr>\n",
       "  </thead>\n",
       "  <tbody>\n",
       "    <tr>\n",
       "      <th>0</th>\n",
       "      <td>Top quality luggage. Excellent luggage, good c...</td>\n",
       "      <td>top quality luggage excellent luggage good cho...</td>\n",
       "    </tr>\n",
       "    <tr>\n",
       "      <th>1</th>\n",
       "      <td>American Tourister Bon Air Suitcase. Love this...</td>\n",
       "      <td>american tourister bon air suitcase love suitc...</td>\n",
       "    </tr>\n",
       "    <tr>\n",
       "      <th>2</th>\n",
       "      <td>Perfect case. The media could not be loaded.\\r...</td>\n",
       "      <td>perfect case media could loaded ihave read man...</td>\n",
       "    </tr>\n",
       "    <tr>\n",
       "      <th>3</th>\n",
       "      <td>Its not as good as other American Tourister. I...</td>\n",
       "      <td>good american tourister iwould recomend hand l...</td>\n",
       "    </tr>\n",
       "    <tr>\n",
       "      <th>4</th>\n",
       "      <td>Not durable at all...cheap bendable plastic..m...</td>\n",
       "      <td>durable allcheap bendable plasticmy sisters br...</td>\n",
       "    </tr>\n",
       "  </tbody>\n",
       "</table>\n",
       "</div>"
      ],
      "text/plain": [
       "                                                   x  \\\n",
       "0  Top quality luggage. Excellent luggage, good c...   \n",
       "1  American Tourister Bon Air Suitcase. Love this...   \n",
       "2  Perfect case. The media could not be loaded.\\r...   \n",
       "3  Its not as good as other American Tourister. I...   \n",
       "4  Not durable at all...cheap bendable plastic..m...   \n",
       "\n",
       "                                        cleaned_text  \n",
       "0  top quality luggage excellent luggage good cho...  \n",
       "1  american tourister bon air suitcase love suitc...  \n",
       "2  perfect case media could loaded ihave read man...  \n",
       "3  good american tourister iwould recomend hand l...  \n",
       "4  durable allcheap bendable plasticmy sisters br...  "
      ]
     },
     "execution_count": 6,
     "metadata": {},
     "output_type": "execute_result"
    }
   ],
   "source": [
    "stop_words = set(stopwords.words('english'))\n",
    "def pre_processing(text):\n",
    "    text = text.lower()\n",
    "    text = re.sub(r'\\b[not|no|never|nothing]\\b[\\s][a-z]*\\b', lambda match: match.group().replace(\" \",\"_\", ), text)\n",
    "    #text = re.sub(r'\\bnot\\b\\s+(\\w+)', r'not_\\1', text)\n",
    "    text = re.sub(r'[^a-z\\s]', '', text, re.I|re.A)\n",
    "    text = re.sub(r'\\s+', ' ', text).strip()\n",
    "    tokens = word_tokenize(text)\n",
    "    #tokens = text.split()\n",
    "    tokens = [token for token in tokens if token not in stop_words]\n",
    "    return ' '.join(tokens)\n",
    "\n",
    "data['cleaned_text'] = data['expanded'].apply(pre_processing)\n",
    "data.drop('expanded', inplace= True, axis = 1)\n",
    "data.head()"
   ]
  },
  {
   "cell_type": "code",
   "execution_count": 7,
   "id": "f5413bd2",
   "metadata": {},
   "outputs": [
    {
     "data": {
      "text/plain": [
       "(934, 1189)"
      ]
     },
     "execution_count": 7,
     "metadata": {},
     "output_type": "execute_result"
    }
   ],
   "source": [
    "vectoriser = CountVectorizer(max_df=0.95, min_df=2, stop_words='english')\n",
    "dtm = vectoriser.fit_transform(data['cleaned_text'])\n",
    "dtm.shape"
   ]
  },
  {
   "cell_type": "code",
   "execution_count": 8,
   "id": "f8dce1aa",
   "metadata": {},
   "outputs": [
    {
     "data": {
      "text/html": [
       "<style>#sk-container-id-1 {color: black;background-color: white;}#sk-container-id-1 pre{padding: 0;}#sk-container-id-1 div.sk-toggleable {background-color: white;}#sk-container-id-1 label.sk-toggleable__label {cursor: pointer;display: block;width: 100%;margin-bottom: 0;padding: 0.3em;box-sizing: border-box;text-align: center;}#sk-container-id-1 label.sk-toggleable__label-arrow:before {content: \"▸\";float: left;margin-right: 0.25em;color: #696969;}#sk-container-id-1 label.sk-toggleable__label-arrow:hover:before {color: black;}#sk-container-id-1 div.sk-estimator:hover label.sk-toggleable__label-arrow:before {color: black;}#sk-container-id-1 div.sk-toggleable__content {max-height: 0;max-width: 0;overflow: hidden;text-align: left;background-color: #f0f8ff;}#sk-container-id-1 div.sk-toggleable__content pre {margin: 0.2em;color: black;border-radius: 0.25em;background-color: #f0f8ff;}#sk-container-id-1 input.sk-toggleable__control:checked~div.sk-toggleable__content {max-height: 200px;max-width: 100%;overflow: auto;}#sk-container-id-1 input.sk-toggleable__control:checked~label.sk-toggleable__label-arrow:before {content: \"▾\";}#sk-container-id-1 div.sk-estimator input.sk-toggleable__control:checked~label.sk-toggleable__label {background-color: #d4ebff;}#sk-container-id-1 div.sk-label input.sk-toggleable__control:checked~label.sk-toggleable__label {background-color: #d4ebff;}#sk-container-id-1 input.sk-hidden--visually {border: 0;clip: rect(1px 1px 1px 1px);clip: rect(1px, 1px, 1px, 1px);height: 1px;margin: -1px;overflow: hidden;padding: 0;position: absolute;width: 1px;}#sk-container-id-1 div.sk-estimator {font-family: monospace;background-color: #f0f8ff;border: 1px dotted black;border-radius: 0.25em;box-sizing: border-box;margin-bottom: 0.5em;}#sk-container-id-1 div.sk-estimator:hover {background-color: #d4ebff;}#sk-container-id-1 div.sk-parallel-item::after {content: \"\";width: 100%;border-bottom: 1px solid gray;flex-grow: 1;}#sk-container-id-1 div.sk-label:hover label.sk-toggleable__label {background-color: #d4ebff;}#sk-container-id-1 div.sk-serial::before {content: \"\";position: absolute;border-left: 1px solid gray;box-sizing: border-box;top: 0;bottom: 0;left: 50%;z-index: 0;}#sk-container-id-1 div.sk-serial {display: flex;flex-direction: column;align-items: center;background-color: white;padding-right: 0.2em;padding-left: 0.2em;position: relative;}#sk-container-id-1 div.sk-item {position: relative;z-index: 1;}#sk-container-id-1 div.sk-parallel {display: flex;align-items: stretch;justify-content: center;background-color: white;position: relative;}#sk-container-id-1 div.sk-item::before, #sk-container-id-1 div.sk-parallel-item::before {content: \"\";position: absolute;border-left: 1px solid gray;box-sizing: border-box;top: 0;bottom: 0;left: 50%;z-index: -1;}#sk-container-id-1 div.sk-parallel-item {display: flex;flex-direction: column;z-index: 1;position: relative;background-color: white;}#sk-container-id-1 div.sk-parallel-item:first-child::after {align-self: flex-end;width: 50%;}#sk-container-id-1 div.sk-parallel-item:last-child::after {align-self: flex-start;width: 50%;}#sk-container-id-1 div.sk-parallel-item:only-child::after {width: 0;}#sk-container-id-1 div.sk-dashed-wrapped {border: 1px dashed gray;margin: 0 0.4em 0.5em 0.4em;box-sizing: border-box;padding-bottom: 0.4em;background-color: white;}#sk-container-id-1 div.sk-label label {font-family: monospace;font-weight: bold;display: inline-block;line-height: 1.2em;}#sk-container-id-1 div.sk-label-container {text-align: center;}#sk-container-id-1 div.sk-container {/* jupyter's `normalize.less` sets `[hidden] { display: none; }` but bootstrap.min.css set `[hidden] { display: none !important; }` so we also need the `!important` here to be able to override the default hidden behavior on the sphinx rendered scikit-learn.org. See: https://github.com/scikit-learn/scikit-learn/issues/21755 */display: inline-block !important;position: relative;}#sk-container-id-1 div.sk-text-repr-fallback {display: none;}</style><div id=\"sk-container-id-1\" class=\"sk-top-container\"><div class=\"sk-text-repr-fallback\"><pre>LatentDirichletAllocation(n_components=5, random_state=42)</pre><b>In a Jupyter environment, please rerun this cell to show the HTML representation or trust the notebook. <br />On GitHub, the HTML representation is unable to render, please try loading this page with nbviewer.org.</b></div><div class=\"sk-container\" hidden><div class=\"sk-item\"><div class=\"sk-estimator sk-toggleable\"><input class=\"sk-toggleable__control sk-hidden--visually\" id=\"sk-estimator-id-1\" type=\"checkbox\" checked><label for=\"sk-estimator-id-1\" class=\"sk-toggleable__label sk-toggleable__label-arrow\">LatentDirichletAllocation</label><div class=\"sk-toggleable__content\"><pre>LatentDirichletAllocation(n_components=5, random_state=42)</pre></div></div></div></div></div>"
      ],
      "text/plain": [
       "LatentDirichletAllocation(n_components=5, random_state=42)"
      ]
     },
     "execution_count": 8,
     "metadata": {},
     "output_type": "execute_result"
    }
   ],
   "source": [
    "lda = LatentDirichletAllocation(n_components=5, random_state=42)\n",
    "lda.fit(dtm)"
   ]
  },
  {
   "cell_type": "code",
   "execution_count": 9,
   "id": "716f9b8b",
   "metadata": {
    "scrolled": true
   },
   "outputs": [
    {
     "name": "stdout",
     "output_type": "stream",
     "text": [
      "{0: ['case', 'suitcase', 'great', 'quality', 'zip', 'cases', 'trip', 'lock', 'good', 'poor'], 1: ['perfect', 'suitcase', 'nice', 'robust', 'luggage', 'light', 'bag', 'case', 'easily', 'lightweight'], 2: ['case', 'suitcase', 'zip', 'lock', 'handle', 'ihave', 'used', 'time', 'wheels', 'use'], 3: ['great', 'good', 'stars', 'product', 'case', 'suitcase', 'excellent', 'colour', 'quality', 'really'], 4: ['good', 'easy', 'case', 'sturdy', 'lightweight', 'quality', 'light', 'suitcase', 'great', 'looks']}\n"
     ]
    }
   ],
   "source": [
    "def display_topics(model, feature_names, no_top_words):\n",
    "    topics = {}\n",
    "    for topic_idx, topic in enumerate(model.components_):\n",
    "        topics[topic_idx] = [feature_names[i] for i in topic.argsort()[:-no_top_words - 1:-1]]\n",
    "    return topics\n",
    "\n",
    "topics = display_topics(lda, vectoriser.get_feature_names_out(), 10)\n",
    "print(topics)"
   ]
  },
  {
   "cell_type": "code",
   "execution_count": 10,
   "id": "b201c7bf",
   "metadata": {},
   "outputs": [],
   "source": [
    "def get_topic_numerical(model, no_top_words):\n",
    "    topics = {}\n",
    "    for topic_idx, topic in enumerate(model.components_):\n",
    "        topics[topic_idx] = topic[:no_top_words]\n",
    "    return topics\n",
    "\n",
    "numerical_topics = get_topic_numerical(lda, 10)\n",
    "numerical_topics_df = pd.DataFrame(numerical_topics)"
   ]
  },
  {
   "cell_type": "code",
   "execution_count": 11,
   "id": "d43432ba",
   "metadata": {
    "scrolled": true
   },
   "outputs": [
    {
     "data": {
      "text/html": [
       "<div>\n",
       "<style scoped>\n",
       "    .dataframe tbody tr th:only-of-type {\n",
       "        vertical-align: middle;\n",
       "    }\n",
       "\n",
       "    .dataframe tbody tr th {\n",
       "        vertical-align: top;\n",
       "    }\n",
       "\n",
       "    .dataframe thead th {\n",
       "        text-align: right;\n",
       "    }\n",
       "</style>\n",
       "<table border=\"1\" class=\"dataframe\">\n",
       "  <thead>\n",
       "    <tr style=\"text-align: right;\">\n",
       "      <th></th>\n",
       "      <th>0</th>\n",
       "      <th>1</th>\n",
       "      <th>2</th>\n",
       "      <th>3</th>\n",
       "      <th>4</th>\n",
       "    </tr>\n",
       "  </thead>\n",
       "  <tbody>\n",
       "    <tr>\n",
       "      <th>0</th>\n",
       "      <td>3.310540</td>\n",
       "      <td>0.200933</td>\n",
       "      <td>7.085304</td>\n",
       "      <td>0.202735</td>\n",
       "      <td>0.200487</td>\n",
       "    </tr>\n",
       "    <tr>\n",
       "      <th>1</th>\n",
       "      <td>0.200797</td>\n",
       "      <td>0.200315</td>\n",
       "      <td>9.117337</td>\n",
       "      <td>0.200448</td>\n",
       "      <td>1.281103</td>\n",
       "    </tr>\n",
       "    <tr>\n",
       "      <th>2</th>\n",
       "      <td>2.655894</td>\n",
       "      <td>0.207264</td>\n",
       "      <td>3.194196</td>\n",
       "      <td>0.200011</td>\n",
       "      <td>1.742635</td>\n",
       "    </tr>\n",
       "    <tr>\n",
       "      <th>3</th>\n",
       "      <td>4.036713</td>\n",
       "      <td>0.529471</td>\n",
       "      <td>5.135830</td>\n",
       "      <td>3.376719</td>\n",
       "      <td>1.921267</td>\n",
       "    </tr>\n",
       "    <tr>\n",
       "      <th>4</th>\n",
       "      <td>4.195523</td>\n",
       "      <td>1.199972</td>\n",
       "      <td>0.201222</td>\n",
       "      <td>0.200004</td>\n",
       "      <td>0.203279</td>\n",
       "    </tr>\n",
       "    <tr>\n",
       "      <th>5</th>\n",
       "      <td>0.200002</td>\n",
       "      <td>0.200003</td>\n",
       "      <td>1.200084</td>\n",
       "      <td>0.200002</td>\n",
       "      <td>1.199908</td>\n",
       "    </tr>\n",
       "    <tr>\n",
       "      <th>6</th>\n",
       "      <td>0.201935</td>\n",
       "      <td>0.203592</td>\n",
       "      <td>5.957747</td>\n",
       "      <td>1.436066</td>\n",
       "      <td>0.200661</td>\n",
       "    </tr>\n",
       "    <tr>\n",
       "      <th>7</th>\n",
       "      <td>1.196756</td>\n",
       "      <td>0.211883</td>\n",
       "      <td>3.184478</td>\n",
       "      <td>0.203607</td>\n",
       "      <td>0.203276</td>\n",
       "    </tr>\n",
       "    <tr>\n",
       "      <th>8</th>\n",
       "      <td>0.200002</td>\n",
       "      <td>0.200002</td>\n",
       "      <td>2.199994</td>\n",
       "      <td>0.200002</td>\n",
       "      <td>0.200001</td>\n",
       "    </tr>\n",
       "    <tr>\n",
       "      <th>9</th>\n",
       "      <td>0.202064</td>\n",
       "      <td>0.668356</td>\n",
       "      <td>1.199666</td>\n",
       "      <td>1.729908</td>\n",
       "      <td>0.200006</td>\n",
       "    </tr>\n",
       "  </tbody>\n",
       "</table>\n",
       "</div>"
      ],
      "text/plain": [
       "          0         1         2         3         4\n",
       "0  3.310540  0.200933  7.085304  0.202735  0.200487\n",
       "1  0.200797  0.200315  9.117337  0.200448  1.281103\n",
       "2  2.655894  0.207264  3.194196  0.200011  1.742635\n",
       "3  4.036713  0.529471  5.135830  3.376719  1.921267\n",
       "4  4.195523  1.199972  0.201222  0.200004  0.203279\n",
       "5  0.200002  0.200003  1.200084  0.200002  1.199908\n",
       "6  0.201935  0.203592  5.957747  1.436066  0.200661\n",
       "7  1.196756  0.211883  3.184478  0.203607  0.203276\n",
       "8  0.200002  0.200002  2.199994  0.200002  0.200001\n",
       "9  0.202064  0.668356  1.199666  1.729908  0.200006"
      ]
     },
     "execution_count": 11,
     "metadata": {},
     "output_type": "execute_result"
    }
   ],
   "source": [
    "numerical_topics_df"
   ]
  },
  {
   "cell_type": "code",
   "execution_count": 12,
   "id": "c4fa02aa",
   "metadata": {},
   "outputs": [
    {
     "data": {
      "text/plain": [
       "Text(83.22222222222221, 0.5, 'Topics')"
      ]
     },
     "execution_count": 12,
     "metadata": {},
     "output_type": "execute_result"
    },
    {
     "data": {
      "image/png": "[encoded data removed]",
      "text/plain": [
       "<Figure size 900x500 with 2 Axes>"
      ]
     },
     "metadata": {},
     "output_type": "display_data"
    }
   ],
   "source": [
    "plt.figure(figsize=(9,5))\n",
    "sns.heatmap(data = numerical_topics_df.T, annot= True, cmap = 'YlGnBu', fmt= '.2f')\n",
    "plt.title('Top Words per Topic (Numerical)')\n",
    "plt.xlabel('Top Words')\n",
    "plt.ylabel('Topics')"
   ]
  },
  {
   "cell_type": "code",
   "execution_count": 13,
   "id": "32c8019a",
   "metadata": {},
   "outputs": [],
   "source": [
    "data['sentiment'] = data['cleaned_text'].apply(lambda x: TextBlob(x).sentiment.polarity)"
   ]
  },
  {
   "cell_type": "code",
   "execution_count": 14,
   "id": "af862632",
   "metadata": {},
   "outputs": [
    {
     "name": "stderr",
     "output_type": "stream",
     "text": [
      "C:\\Users\\aryan\\anaconda3\\Lib\\site-packages\\seaborn\\_oldcore.py:1119: FutureWarning: use_inf_as_na option is deprecated and will be removed in a future version. Convert inf values to NaN before operating instead.\n",
      "  with pd.option_context('mode.use_inf_as_na', True):\n"
     ]
    },
    {
     "data": {
      "text/plain": [
       "Text(0, 0.5, 'Frequency')"
      ]
     },
     "execution_count": 14,
     "metadata": {},
     "output_type": "execute_result"
    },
    {
     "data": {
      "image/png": "[encoded data removed]",
      "text/plain": [
       "<Figure size 900x500 with 1 Axes>"
      ]
     },
     "metadata": {},
     "output_type": "display_data"
    }
   ],
   "source": [
    "plt.figure(figsize=(9, 5))\n",
    "sns.histplot(data['sentiment'], bins=30, kde=True, color='skyblue')\n",
    "plt.title('Sentiment Distribution')\n",
    "plt.xlabel('Sentiment Polarity')\n",
    "plt.ylabel('Frequency')"
   ]
  },
  {
   "cell_type": "code",
   "execution_count": 15,
   "id": "e88d049b",
   "metadata": {},
   "outputs": [
    {
     "data": {
      "text/plain": [
       "count    934.000000\n",
       "mean       0.360572\n",
       "std        0.331844\n",
       "min       -1.000000\n",
       "25%        0.154514\n",
       "50%        0.407083\n",
       "75%        0.600000\n",
       "max        1.000000\n",
       "Name: sentiment, dtype: float64"
      ]
     },
     "execution_count": 15,
     "metadata": {},
     "output_type": "execute_result"
    }
   ],
   "source": [
    "sentiment_summary = data['sentiment'].describe()\n",
    "sentiment_summary"
   ]
  },
  {
   "cell_type": "code",
   "execution_count": 16,
   "id": "f8ae2bc3",
   "metadata": {},
   "outputs": [
    {
     "data": {
      "text/html": [
       "<div>\n",
       "<style scoped>\n",
       "    .dataframe tbody tr th:only-of-type {\n",
       "        vertical-align: middle;\n",
       "    }\n",
       "\n",
       "    .dataframe tbody tr th {\n",
       "        vertical-align: top;\n",
       "    }\n",
       "\n",
       "    .dataframe thead th {\n",
       "        text-align: right;\n",
       "    }\n",
       "</style>\n",
       "<table border=\"1\" class=\"dataframe\">\n",
       "  <thead>\n",
       "    <tr style=\"text-align: right;\">\n",
       "      <th></th>\n",
       "      <th>x</th>\n",
       "      <th>cleaned_text</th>\n",
       "      <th>sentiment</th>\n",
       "    </tr>\n",
       "  </thead>\n",
       "  <tbody>\n",
       "    <tr>\n",
       "      <th>0</th>\n",
       "      <td>Top quality luggage. Excellent luggage, good c...</td>\n",
       "      <td>top quality luggage excellent luggage good cho...</td>\n",
       "      <td>0.528571</td>\n",
       "    </tr>\n",
       "    <tr>\n",
       "      <th>1</th>\n",
       "      <td>American Tourister Bon Air Suitcase. Love this...</td>\n",
       "      <td>american tourister bon air suitcase love suitc...</td>\n",
       "      <td>0.178571</td>\n",
       "    </tr>\n",
       "    <tr>\n",
       "      <th>2</th>\n",
       "      <td>Perfect case. The media could not be loaded.\\r...</td>\n",
       "      <td>perfect case media could loaded ihave read man...</td>\n",
       "      <td>0.343457</td>\n",
       "    </tr>\n",
       "    <tr>\n",
       "      <th>3</th>\n",
       "      <td>Its not as good as other American Tourister. I...</td>\n",
       "      <td>good american tourister iwould recomend hand l...</td>\n",
       "      <td>0.128571</td>\n",
       "    </tr>\n",
       "    <tr>\n",
       "      <th>4</th>\n",
       "      <td>Not durable at all...cheap bendable plastic..m...</td>\n",
       "      <td>durable allcheap bendable plasticmy sisters br...</td>\n",
       "      <td>0.168651</td>\n",
       "    </tr>\n",
       "  </tbody>\n",
       "</table>\n",
       "</div>"
      ],
      "text/plain": [
       "                                                   x  \\\n",
       "0  Top quality luggage. Excellent luggage, good c...   \n",
       "1  American Tourister Bon Air Suitcase. Love this...   \n",
       "2  Perfect case. The media could not be loaded.\\r...   \n",
       "3  Its not as good as other American Tourister. I...   \n",
       "4  Not durable at all...cheap bendable plastic..m...   \n",
       "\n",
       "                                        cleaned_text  sentiment  \n",
       "0  top quality luggage excellent luggage good cho...   0.528571  \n",
       "1  american tourister bon air suitcase love suitc...   0.178571  \n",
       "2  perfect case media could loaded ihave read man...   0.343457  \n",
       "3  good american tourister iwould recomend hand l...   0.128571  \n",
       "4  durable allcheap bendable plasticmy sisters br...   0.168651  "
      ]
     },
     "execution_count": 16,
     "metadata": {},
     "output_type": "execute_result"
    }
   ],
   "source": [
    "data.head()"
   ]
  },
  {
   "cell_type": "code",
   "execution_count": null,
   "id": "362ca3bc",
   "metadata": {},
   "outputs": [],
   "source": []
  }
 ],
 "metadata": {
  "kernelspec": {
   "display_name": "Python 3 (ipykernel)",
   "language": "python",
   "name": "python3"
  },
  "language_info": {
   "codemirror_mode": {
    "name": "ipython",
    "version": 3
   },
   "file_extension": ".py",
   "mimetype": "text/x-python",
   "name": "python",
   "nbconvert_exporter": "python",
   "pygments_lexer": "ipython3",
   "version": "3.11.7"
  }
 },
 "nbformat": 4,
 "nbformat_minor": 5
}
